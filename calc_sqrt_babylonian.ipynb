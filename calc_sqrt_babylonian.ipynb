import sys

from math import sqrt

xsquared = float(sys.argv[1])

xmath = sqrt(xsquared)
print("The square root of {:14.8g} is {:14.8g}".format(xsquared,xmath))

print()
print()

# What if we don't have a library?
#
# Generally, we'll use an iterative method

xguess = 1.3 # gotta start somewhere
print("{:>8s} {:>14s} {:>14s} {:>14s} {:>14s}".format("Iter","x^2","x?","x?^2","Error")) # pretty print a header
for i in range(100):
    print("{:8d} {:14.8g} {:14.8g} {:14.8g} {:14.8g}".format(i+1,xsquared,xguess,xguess*xguess,xsquared-xguess*xguess)) # test the guess
    if abs(1-xsquared/(xguess*xguess)) < 1e-12:
        break # stop if we're right
    xguess = 0.5*(xguess + xsquared/xguess) # improve the guess

    # The Babylonians (or Greeks) figure it out in the first century
    # If your guess (xguess) is too small (or large), then
    # xsquared/xguess is too large (or small), so 
    # the average of the two is a better guess (and always too large!)

    # Newton (16 centuries later) figured out that,
    # if f(x) = x*x - a = 0, and
    #    f(x) ~ -e*f'(x+e) + f(x+e), then
    #       e = (x+e) - x ~ f(x+e)/f'(x+e), so
    #       x ~ (x+e) - f(x+e)/f'(x+e)
    #
    #       x ~ xguess - (xguess*xguess-a)/2*xguess
    #       x ~ 1/2*(xguess + a/xguess)                Look familiar?!
