{
 "cells": [
  {
   "cell_type": "code",
   "execution_count": null,
   "id": "a53dac60",
   "metadata": {},
   "outputs": [],
   "source": [
    "import sys\n",
    "\n",
    "from math import sqrt\n",
    "\n",
    "xsquared = float(sys.argv[1])\n",
    "\n",
    "xmath = sqrt(xsquared)\n",
    "print(\"The square root of {:14.8g} is {:14.8g}\".format(xsquared,xmath))\n",
    "\n",
    "print()\n",
    "print()\n",
    "\n",
    "# What if we don't have a library?\n",
    "#\n",
    "# Generally, we'll use an iterative method\n",
    "\n",
    "xguess = 1.3 # gotta start somewhere\n",
    "print(\"{:>8s} {:>14s} {:>14s} {:>14s} {:>14s}\".format(\"Iter\",\"x^2\",\"x?\",\"x?^2\",\"Error\")) # pretty print a header\n",
    "for i in range(100):\n",
    "    print(\"{:8d} {:14.8g} {:14.8g} {:14.8g} {:14.8g}\".format(i+1,xsquared,xguess,xguess*xguess,xsquared-xguess*xguess)) # test the guess\n",
    "    if abs(1-xsquared/(xguess*xguess)) < 1e-12:\n",
    "        break # stop if we're right\n",
    "    xguess = 0.5*(xguess + xsquared/xguess) # improve the guess\n",
    "\n",
    "    # The Babylonians (or Greeks) figure it out in the first century\n",
    "    # If your guess (xguess) is too small (or large), then\n",
    "    # xsquared/xguess is too large (or small), so \n",
    "    # the average of the two is a better guess (and always too large!)\n",
    "\n",
    "    # Newton (16 centuries later) figured out that,\n",
    "    # if f(x) = x*x - a = 0, and\n",
    "    #    f(x) ~ -e*f'(x+e) + f(x+e), then\n",
    "    #       e = (x+e) - x ~ f(x+e)/f'(x+e), so\n",
    "    #       x ~ (x+e) - f(x+e)/f'(x+e)\n",
    "    #\n",
    "    #       x ~ xguess - (xguess*xguess-a)/2*xguess\n",
    "    #       x ~ 1/2*(xguess + a/xguess)                Look familiar?!"
   ]
  }
 ],
 "metadata": {
  "kernelspec": {
   "display_name": "Python 3 (ipykernel)",
   "language": "python",
   "name": "python3"
  },
  "language_info": {
   "codemirror_mode": {
    "name": "ipython",
    "version": 3
   },
   "file_extension": ".py",
   "mimetype": "text/x-python",
   "name": "python",
   "nbconvert_exporter": "python",
   "pygments_lexer": "ipython3",
   "version": "3.9.16"
  }
 },
 "nbformat": 4,
 "nbformat_minor": 5
}
